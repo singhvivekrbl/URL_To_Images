{
 "cells": [
  {
   "cell_type": "code",
   "execution_count": 1,
   "metadata": {},
   "outputs": [],
   "source": [
    "import requests\n",
    "import os"
   ]
  },
  {
   "cell_type": "code",
   "execution_count": null,
   "metadata": {},
   "outputs": [
    {
     "name": "stdout",
     "output_type": "stream",
     "text": [
      "https://tpc.googlesyndication.com/pageadimg/imgad?id=CICAgKDrvtzikAEQoAEY2AQoATIIVrA6qgUgqUs\n",
      "\n",
      "File No.:  0 Saving at: C:\\Users\\vivek.s\\Desktop\\Images\\CICAgKDrlf74LhABGAEoATIIHjncu2pS3YE0.jpg\n",
      "File No.:  1 Saving at: C:\\Users\\vivek.s\\Desktop\\Images\\CICAgKDrlb6PhQEQARgBKAEyCKxkjfHGREVQ1.jpg\n",
      "File No.:  2 Saving at: C:\\Users\\vivek.s\\Desktop\\Images\\CICAgKDrncqslAEQoAEY2AQoATIIGiiJ1AroMBo2.jpg\n",
      "File No.:  3 Saving at: C:\\Users\\vivek.s\\Desktop\\Images\\CICAgKDrnYpDEKABGNgEKAEyCOOWvjpq9G5s3.jpg\n",
      "File No.:  4 Saving at: C:\\Users\\vivek.s\\Desktop\\Images\\CICAgKCr1834KRCgARjYBCgBMgjrJKSFEsdepQ4.jpg\n",
      "File No.:  5 Saving at: C:\\Users\\vivek.s\\Desktop\\Images\\CICAgKCr183CvAEQoAEY2AQoATIIVIrGiS2CnQo5.jpg\n",
      "File No.:  6 Saving at: C:\\Users\\vivek.s\\Desktop\\Images\\CICAgKCrl9SRORCgARjYBCgBMgiaC7PU0lB5_A6.jpg\n",
      "File No.:  7 Saving at: C:\\Users\\vivek.s\\Desktop\\Images\\CICAgKCrl9TJwQEQoAEY2AQoATIIMMLneFE_OhI7.jpg\n",
      "File No.:  8 Saving at: C:\\Users\\vivek.s\\Desktop\\Images\\CICAgKDr5YjQ9wEQoAEY2AQoATII3txGZF7Yc2o8.jpg\n",
      "File No.:  9 Saving at: C:\\Users\\vivek.s\\Desktop\\Images\\CICAgKDr5fD31wEQoAEY2AQoATII33v-BHPd-DI9.jpg\n",
      "File No.:  10 Saving at: C:\\Users\\vivek.s\\Desktop\\Images\\CICAgKDrtcDRZBCgARjYBCgBMgiWHwMYShCvRg10.jpg\n",
      "File No.:  11 Saving at: C:\\Users\\vivek.s\\Desktop\\Images\\CICAgKDr5e2OswEQoAEY2AQoATIIP_G2_iAwp5811.jpg\n",
      "File No.:  12 Saving at: C:\\Users\\vivek.s\\Desktop\\Images\\CICAgKCrl6eZPBCgARjYBCgBMgjefdBhl8WRVA12.jpg\n",
      "File No.:  13 Saving at: C:\\Users\\vivek.s\\Desktop\\Images\\CICAgKCrl4edLBCgARjYBCgBMghH7Hx1PixcLA13.jpg\n",
      "File No.:  14 Saving at: C:\\Users\\vivek.s\\Desktop\\Images\\CICAgKCbxKT1ExABGAEoATIIpryRnG6rEGQ14.jpg\n",
      "File No.:  15 Saving at: C:\\Users\\vivek.s\\Desktop\\Images\\CICAgKCbxKSeAhABGAEoATIIly5pdYq7nQ415.jpg\n",
      "File No.:  16 Saving at: C:\\Users\\vivek.s\\Desktop\\Images\\CICAgKDrg4b8hAEQoAEY2AQoATII1psnMMDMRcc16.jpg\n",
      "File No.:  17 Saving at: C:\\Users\\vivek.s\\Desktop\\Images\\CICAgKCbxPPXPxABGAEoATIIFudT48OCzLo17.jpg\n",
      "File No.:  18 Saving at: C:\\Users\\vivek.s\\Desktop\\Images\\CICAgKCbjP-fHRABGAEoATIIjJuBNTm-P1k18.jpg\n",
      "File No.:  19 Saving at: C:\\Users\\vivek.s\\Desktop\\Images\\CICAgKCbwp-rywEQARgBKAEyCBR8pv9dv-Jf19.jpg\n",
      "File No.:  20 Saving at: C:\\Users\\vivek.s\\Desktop\\Images\\CICAgKCbnIatEBABGAEoATIITX3aTcGx-8I20.jpg\n",
      "File No.:  21 Saving at: C:\\Users\\vivek.s\\Desktop\\Images\\CICAgKCbvcf62QEQARgBKAEyCE3ho5-JrHNh21.jpg\n",
      "File No.:  22 Saving at: C:\\Users\\vivek.s\\Desktop\\Images\\CICAgKCbzPOqJBABGAEoATII0KvYxa4tMbw22.jpg\n",
      "File No.:  23 Saving at: C:\\Users\\vivek.s\\Desktop\\Images\\CICAgKCbzIvSNBABGAEoATII1PwDAHx55UQ23.jpg\n",
      "File No.:  24 Saving at: C:\\Users\\vivek.s\\Desktop\\Images\\CICAgKCblpkSEAEYASgBMgierN3PiQb07g24.jpg\n",
      "File No.:  25 Saving at: C:\\Users\\vivek.s\\Desktop\\Images\\CICAgKCb6pb-sQEQARgBKAEyCAeQTXaiSihY25.jpg\n",
      "File No.:  26 Saving at: C:\\Users\\vivek.s\\Desktop\\Images\\CICAgKCbhrvNAhABGAEoATII6Pw4lTn5lbM26.jpg\n",
      "File No.:  27 Saving at: C:\\Users\\vivek.s\\Desktop\\Images\\CICAgKCb9afQGRABGAEoATIIXu_wQ4ZWC1s27.jpg\n",
      "File No.:  28 Saving at: C:\\Users\\vivek.s\\Desktop\\Images\\CICAgKCb9Y-VWRABGAEoATIIliY84Ze4g9Q28.jpg\n",
      "File No.:  29 Saving at: C:\\Users\\vivek.s\\Desktop\\Images\\CICAgKDb4JritAEQARgBKAEyCEZBPpc-OLwZ29.jpg\n",
      "File No.:  30 Saving at: C:\\Users\\vivek.s\\Desktop\\Images\\CICAgKDb4KrNIRABGAEoATIIr7543xofEdM30.jpg\n",
      "File No.:  31 Saving at: C:\\Users\\vivek.s\\Desktop\\Images\\CICAgKDbkqiMkwEQARgBKAEyCAimhDA88dAW31.jpg\n",
      "File No.:  32 Saving at: C:\\Users\\vivek.s\\Desktop\\Images\\CICAgKDbkuC37wEQARgBKAEyCLF3S6595I1d32.jpg\n",
      "File No.:  33 Saving at: C:\\Users\\vivek.s\\Desktop\\Images\\CICAgKDb4t_0sQEQARgBKAEyCDO4WWBYZyPW33.jpg\n",
      "File No.:  34 Saving at: C:\\Users\\vivek.s\\Desktop\\Images\\CICAgKDb4v_15AEQARgBKAEyCN4et0naGUbN34.jpg\n",
      "File No.:  35 Saving at: C:\\Users\\vivek.s\\Desktop\\Images\\CICAgKDbhpCN2QEQARgBKAEyCHj6WP41mn_o35.jpg\n",
      "File No.:  36 Saving at: C:\\Users\\vivek.s\\Desktop\\Images\\CICAgKDbhri9bRABGAEoATIIBVwhBgddn9I36.jpg\n",
      "File No.:  37 Saving at: C:\\Users\\vivek.s\\Desktop\\Images\\CICAgKDbhrihMhABGAEoATII-rd3iDUjob437.jpg\n",
      "File No.:  38 Saving at: C:\\Users\\vivek.s\\Desktop\\Images\\CICAgKDbhuCOhAEQARgBKAEyCF3Zh3gZryRS38.jpg\n",
      "File No.:  39 Saving at: C:\\Users\\vivek.s\\Desktop\\Images\\CICAgKDbhvC8dBABGAEoATII2fHgPqto4Gg39.jpg\n",
      "File No.:  40 Saving at: C:\\Users\\vivek.s\\Desktop\\Images\\CICAgKCb94OtjAEQARgBKAEyCNKPwyYCoM-_40.jpg\n",
      "File No.:  41 Saving at: C:\\Users\\vivek.s\\Desktop\\Images\\CICAgKCb96OmUxABGAEoATIIifz3DAupg5Y41.jpg\n",
      "File No.:  42 Saving at: C:\\Users\\vivek.s\\Desktop\\Images\\CICAgKDbvIuKzQEQARgBKAEyCPI6pUNAF5mE42.jpg\n",
      "File No.:  43 Saving at: C:\\Users\\vivek.s\\Desktop\\Images\\CICAgKDbvKP71gEQARgBKAEyCFpSmBlC0UvH43.jpg\n"
     ]
    }
   ],
   "source": [
    "path = 'C:\\\\Users\\\\vivek.s\\\\Desktop\\\\Images\\\\'\n",
    "data = open('logfile.txt', 'w')\n",
    "with open(\"C:\\\\Users\\\\vivek.s\\\\Desktop\\\\Images\\\\Walmart.csv\") as f:\n",
    "    print (f.readline())\n",
    "    for index, image_url in enumerate(f.readlines()):\n",
    "        name = image_url.split('/')[-1].split('=')[-1]\n",
    "        image_path = os.path.join(path, name.replace('\\n', '') + str(index) + '.jpg')\n",
    "        data.write('File No.: ' + str(index) + 'Saving at: ' + image_path)\n",
    "        print ('File No.: ',index, 'Saving at: ' + image_path)\n",
    "        try:\n",
    "            \n",
    "            response = requests.get(image_url)\n",
    "            with open(image_path, 'wb') as image_data:\n",
    "                for raw in response:\n",
    "                    image_data.write(raw)\n",
    "        except Exception as e:\n",
    "            print (e)\n",
    "            print (image_url)\n",
    "            data.write(str(e))\n",
    "            data.write(image_url)\n",
    "            \n",
    "    data.close()"
   ]
  },
  {
   "cell_type": "code",
   "execution_count": null,
   "metadata": {},
   "outputs": [],
   "source": []
  }
 ],
 "metadata": {
  "kernelspec": {
   "display_name": "Python 3",
   "language": "python",
   "name": "python3"
  },
  "language_info": {
   "codemirror_mode": {
    "name": "ipython",
    "version": 3
   },
   "file_extension": ".py",
   "mimetype": "text/x-python",
   "name": "python",
   "nbconvert_exporter": "python",
   "pygments_lexer": "ipython3",
   "version": "3.7.1"
  }
 },
 "nbformat": 4,
 "nbformat_minor": 2
}
